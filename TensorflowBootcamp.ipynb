{
  "nbformat": 4,
  "nbformat_minor": 0,
  "metadata": {
    "colab": {
      "provenance": [],
      "authorship_tag": "ABX9TyN4LUNHzermlGx4vBW5aN3m",
      "include_colab_link": true
    },
    "kernelspec": {
      "name": "python3",
      "display_name": "Python 3"
    },
    "language_info": {
      "name": "python"
    }
  },
  "cells": [
    {
      "cell_type": "markdown",
      "metadata": {
        "id": "view-in-github",
        "colab_type": "text"
      },
      "source": [
        "<a href=\"https://colab.research.google.com/github/ismailsaid2001/Machine-learning-/blob/main/TensorflowBootcamp.ipynb\" target=\"_parent\"><img src=\"https://colab.research.google.com/assets/colab-badge.svg\" alt=\"Open In Colab\"/></a>"
      ]
    },
    {
      "cell_type": "markdown",
      "source": [
        "first of all , we have to import all the dependencies that we will be  needed in the project"
      ],
      "metadata": {
        "id": "bRmahBbABCFd"
      }
    },
    {
      "cell_type": "code",
      "execution_count": 6,
      "metadata": {
        "id": "LQLLt1cr_QRK"
      },
      "outputs": [],
      "source": [
        "import numpy as np\n",
        "import tensorflow as tf\n",
        "import logging\n",
        "logger = tf.get_logger()\n",
        "logger.setLevel(logging.ERROR)\n"
      ]
    },
    {
      "cell_type": "markdown",
      "source": [
        "**Set up training data**\n",
        "\n",
        "we will create two lists celsius_q and fajrenheit_a to train our model :"
      ],
      "metadata": {
        "id": "XPbw1mTuA9rh"
      }
    },
    {
      "cell_type": "code",
      "source": [
        "celsius_q= np.array([-40,-10,0,8,15,22,38],dtype=float)\n",
        "fahrenheit_a= np.array([-40, 14,32,46,59,72,100],dtype=float)\n",
        "for f,c in zip(celsius_q,fahrenheit_a):\n",
        "  print(f'{c} degrees Celsius = {f} degrees fahrenheit')"
      ],
      "metadata": {
        "colab": {
          "base_uri": "https://localhost:8080/"
        },
        "id": "fnDb7RV4CAJE",
        "outputId": "1686affa-5f03-49e5-fe0b-cd895d0f6fce"
      },
      "execution_count": 7,
      "outputs": [
        {
          "output_type": "stream",
          "name": "stdout",
          "text": [
            "-40.0 degrees Celsius = -40.0 degrees fahrenheit\n",
            "14.0 degrees Celsius = -10.0 degrees fahrenheit\n",
            "32.0 degrees Celsius = 0.0 degrees fahrenheit\n",
            "46.0 degrees Celsius = 8.0 degrees fahrenheit\n",
            "59.0 degrees Celsius = 15.0 degrees fahrenheit\n",
            "72.0 degrees Celsius = 22.0 degrees fahrenheit\n",
            "100.0 degrees Celsius = 38.0 degrees fahrenheit\n"
          ]
        }
      ]
    },
    {
      "cell_type": "markdown",
      "source": [
        "**Some temenoligy :**\n",
        "\n",
        "inputs are called Features \n",
        "outputs are called Labels\n",
        "example a pair of input and output during training "
      ],
      "metadata": {
        "id": "4wn3GIHrFNn1"
      }
    },
    {
      "cell_type": "markdown",
      "source": [
        "**creating the Model :**\n",
        "\n",
        "we will use a single layer with a single neuron because the problem is straightforward "
      ],
      "metadata": {
        "id": "kdgyU0zFFllL"
      }
    },
    {
      "cell_type": "markdown",
      "source": [
        "# **Build a layer :**\n",
        "We'll call the layer l0 and create it by instantiating tf.keras.layers.Dense with the following configuration:\n",
        "\n",
        "**inputshape**: it's use to precise the shape of the input in our case the input will be a number and that's why is will be [1]\n",
        "\n",
        "**units**:this variable represents the number of neurones composing the layer in our case it's the final layer and that's why it will be composed of only one layer because the output is a single value "
      ],
      "metadata": {
        "id": "L6_TeVgGGYZX"
      }
    },
    {
      "cell_type": "markdown",
      "source": [],
      "metadata": {
        "id": "sFJt6uSbKpcU"
      }
    },
    {
      "cell_type": "code",
      "source": [
        "l0= tf.keras.layers.Dense(units=1,input_shape=[1])\n"
      ],
      "metadata": {
        "id": "wZyeEXoRKx00"
      },
      "execution_count": 8,
      "outputs": []
    },
    {
      "cell_type": "markdown",
      "source": [
        "after creating layers(only one layer in our case) layers must be assembled into a model through the function Sequential"
      ],
      "metadata": {
        "id": "pNkvTqbEMTeu"
      }
    },
    {
      "cell_type": "code",
      "source": [
        "model = tf.keras.Sequential([l0])"
      ],
      "metadata": {
        "id": "RKgrYs58MmJg"
      },
      "execution_count": 9,
      "outputs": []
    },
    {
      "cell_type": "markdown",
      "source": [
        "Then we have to compile the model \n",
        "this process os based on two parameters :\n",
        "Loss function : this function calculates how far are the predictions from the true outputs .\n",
        "Optimizer function : this function helps us to reduce loss through adjuting parameters\n"
      ],
      "metadata": {
        "id": "PwRrOgr_M-gx"
      }
    },
    {
      "cell_type": "code",
      "source": [
        "model.compile(loss='mean_squared_error',\n",
        "              optimizer=tf.keras.optimizers.Adam(0.2))"
      ],
      "metadata": {
        "id": "oCj4e5pKNlEv"
      },
      "execution_count": 10,
      "outputs": []
    },
    {
      "cell_type": "markdown",
      "source": [
        "Rq:0.1 is the learning rate \n",
        "maean_sequared_error ? \n",
        "Adam ,how it works and why we use it ?\n"
      ],
      "metadata": {
        "id": "opjzulQ9OFFb"
      }
    },
    {
      "cell_type": "markdown",
      "source": [
        "# Training the Model \n",
        "we will use the function fit of tensorflow \n"
      ],
      "metadata": {
        "id": "MIOOyof0ag7h"
      }
    },
    {
      "cell_type": "code",
      "source": [
        "history = model.fit(celsius_q, fahrenheit_a, epochs=500, verbose=False)\n",
        "print(\"Finished training the model\")"
      ],
      "metadata": {
        "colab": {
          "base_uri": "https://localhost:8080/"
        },
        "id": "TznvhdfudiF7",
        "outputId": "f9080bab-9ccb-48a5-e676-b32d2bd47972"
      },
      "execution_count": 11,
      "outputs": [
        {
          "output_type": "stream",
          "name": "stdout",
          "text": [
            "Finished training the model\n"
          ]
        }
      ]
    },
    {
      "cell_type": "markdown",
      "source": [
        "diplaying the result with matplotlib "
      ],
      "metadata": {
        "id": "XjBMNY6jweNy"
      }
    },
    {
      "cell_type": "code",
      "source": [
        "import matplotlib.pyplot as plt\n",
        "plt.xlabel('Epoch Number')\n",
        "plt.ylabel(\"Loss Magnitude\")\n",
        "plt.plot(history.history['loss'])"
      ],
      "metadata": {
        "colab": {
          "base_uri": "https://localhost:8080/",
          "height": 296
        },
        "id": "pXpo_f-pwjDb",
        "outputId": "17d25049-b21a-469e-d514-64a4504ecaf9"
      },
      "execution_count": 12,
      "outputs": [
        {
          "output_type": "execute_result",
          "data": {
            "text/plain": [
              "[<matplotlib.lines.Line2D at 0x7f5656aca400>]"
            ]
          },
          "metadata": {},
          "execution_count": 12
        },
        {
          "output_type": "display_data",
          "data": {
            "text/plain": [
              "<Figure size 432x288 with 1 Axes>"
            ],
            "image/png": "[encoded data removed]"
          },
          "metadata": {
            "needs_background": "light"
          }
        }
      ]
    },
    {
      "cell_type": "markdown",
      "source": [
        "Predict values using the model"
      ],
      "metadata": {
        "id": "di8MRUnpzdxl"
      }
    },
    {
      "cell_type": "code",
      "source": [
        "print(model.predict([100.0]))"
      ],
      "metadata": {
        "colab": {
          "base_uri": "https://localhost:8080/"
        },
        "id": "_pzhfSGjytVh",
        "outputId": "e601321d-f1f6-49a8-e3f9-184c77568bc5"
      },
      "execution_count": 15,
      "outputs": [
        {
          "output_type": "stream",
          "name": "stdout",
          "text": [
            "1/1 [==============================] - 0s 28ms/step\n",
            "[[211.74512]]\n"
          ]
        }
      ]
    },
    {
      "cell_type": "markdown",
      "source": [
        "displaying the weights :\n"
      ],
      "metadata": {
        "id": "nd9vso_124xZ"
      }
    },
    {
      "cell_type": "code",
      "source": [
        "print(\"These are the layer variables: {}\".format(l0.get_weights()))"
      ],
      "metadata": {
        "colab": {
          "base_uri": "https://localhost:8080/"
        },
        "id": "-NOHYcwt28wF",
        "outputId": "cc09f641-9f4e-42a0-a101-5cdacff2e154"
      },
      "execution_count": 16,
      "outputs": [
        {
          "output_type": "stream",
          "name": "stdout",
          "text": [
            "These are the layer variables: [array([[1.7980744]], dtype=float32), array([31.937685], dtype=float32)]\n"
          ]
        }
      ]
    }
  ]
}